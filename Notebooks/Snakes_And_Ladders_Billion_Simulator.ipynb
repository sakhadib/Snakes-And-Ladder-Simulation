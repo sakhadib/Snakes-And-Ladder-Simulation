{
  "nbformat": 4,
  "nbformat_minor": 0,
  "metadata": {
    "colab": {
      "provenance": []
    },
    "kernelspec": {
      "name": "python3",
      "display_name": "Python 3"
    },
    "language_info": {
      "name": "python"
    }
  },
  "cells": [
    {
      "cell_type": "code",
      "execution_count": null,
      "metadata": {
        "id": "teKDkELVERap"
      },
      "outputs": [],
      "source": [
        "import random\n",
        "import csv\n",
        "import json\n",
        "import pandas as pd\n",
        "from tqdm import tqdm"
      ]
    },
    {
      "cell_type": "code",
      "source": [
        "try:\n",
        "    from google.colab import files\n",
        "    HAVE_COLAB = True\n",
        "except ImportError:\n",
        "    HAVE_COLAB = False"
      ],
      "metadata": {
        "id": "lGs-761PEgVs"
      },
      "execution_count": null,
      "outputs": []
    },
    {
      "cell_type": "code",
      "source": [
        "N_BOARDS = 100             # Reduce for manageability (adjustable)\n",
        "GAMES_PER_BOARD = 1000     # Reduce for manageability (adjustable)\n",
        "MAX_SNAKES = 10\n",
        "MAX_LADDERS = 10"
      ],
      "metadata": {
        "id": "aDdubGy6Eqvu"
      },
      "execution_count": null,
      "outputs": []
    },
    {
      "cell_type": "code",
      "source": [
        "def generate_board(max_snakes=MAX_SNAKES, max_ladders=MAX_LADDERS):\n",
        "    snakes, ladders, used = [], [], set()\n",
        "    while len(snakes) < max_snakes:\n",
        "        head = random.randint(20, 99)\n",
        "        tail = random.randint(1, head - 1)\n",
        "        if head not in used and tail not in used:\n",
        "            snakes.append((head, tail))\n",
        "            used.update([head, tail])\n",
        "    while len(ladders) < max_ladders:\n",
        "        bottom = random.randint(1, 90)\n",
        "        top = random.randint(bottom + 1, 100)\n",
        "        if bottom not in used and top not in used and top not in [s[0] for s in snakes]:\n",
        "            ladders.append((bottom, top))\n",
        "            used.update([bottom, top])\n",
        "    board_map = {h: t for h, t in snakes + ladders}\n",
        "    return board_map, snakes, ladders"
      ],
      "metadata": {
        "id": "mbNJez0hEkKt"
      },
      "execution_count": null,
      "outputs": []
    },
    {
      "cell_type": "code",
      "source": [
        "def simulate_game_with_steps(board_map, game_id, board_id):\n",
        "    pos = 0\n",
        "    turn = 0\n",
        "    journey_log = []\n",
        "    while pos < 100:\n",
        "        roll = random.randint(1, 6)\n",
        "        if pos + roll <= 100:\n",
        "            start_pos = pos\n",
        "            new_pos = pos + roll\n",
        "            end_pos = board_map.get(new_pos, new_pos)\n",
        "            move_type = \"normal\"\n",
        "            if new_pos in board_map:\n",
        "                move_type = \"ladder\" if end_pos > new_pos else \"snake\"\n",
        "            pos = end_pos\n",
        "            journey_log.append({\n",
        "                \"game_id\": game_id,\n",
        "                \"board_id\": board_id,\n",
        "                \"turn\": turn + 1,\n",
        "                \"roll\": roll,\n",
        "                \"start_pos\": start_pos,\n",
        "                \"end_pos\": pos,\n",
        "                \"move_type\": move_type\n",
        "            })\n",
        "        turn += 1\n",
        "    return journey_log\n"
      ],
      "metadata": {
        "id": "YQhVtYCsEt50"
      },
      "execution_count": null,
      "outputs": []
    },
    {
      "cell_type": "code",
      "source": [
        "boards_meta = []\n",
        "journeys = []\n",
        "\n",
        "game_id = 0\n",
        "for board_id in tqdm(range(N_BOARDS), desc=\"Generating Boards\"):\n",
        "    board_map, snakes, ladders = generate_board()\n",
        "    boards_meta.append({\n",
        "        'board_id': board_id,\n",
        "        'snakes': json.dumps(snakes),\n",
        "        'ladders': json.dumps(ladders)\n",
        "    })\n",
        "    for _ in range(GAMES_PER_BOARD):\n",
        "        game_journey = simulate_game_with_steps(board_map, game_id, board_id)\n",
        "        journeys.extend(game_journey)\n",
        "        game_id += 1"
      ],
      "metadata": {
        "colab": {
          "base_uri": "https://localhost:8080/"
        },
        "id": "HZA7soN9Ewll",
        "outputId": "c2eb3d89-5fdf-4e4a-ce7b-2a96619d05bb"
      },
      "execution_count": null,
      "outputs": [
        {
          "output_type": "stream",
          "name": "stderr",
          "text": [
            "Generating Boards: 100%|██████████| 100/100 [00:04<00:00, 20.68it/s]\n"
          ]
        }
      ]
    },
    {
      "cell_type": "code",
      "source": [
        "boards_df = pd.DataFrame(boards_meta)\n",
        "boards_df.to_csv(\"boards_turn_level.csv\", index=False)\n",
        "\n",
        "journey_df = pd.DataFrame(journeys)\n",
        "journey_df.to_csv(\"game_journeys_turn_level.csv\", index=False)\n",
        "\n",
        "print(\"✅ Saved:\")\n",
        "print(\"- boards_turn_level.csv\")\n",
        "print(\"- game_journeys_turn_level.csv\")"
      ],
      "metadata": {
        "colab": {
          "base_uri": "https://localhost:8080/"
        },
        "id": "f5cTvxGjE_0n",
        "outputId": "8f4b915b-b5ab-4c3f-b774-8942fbea1c6f"
      },
      "execution_count": null,
      "outputs": [
        {
          "output_type": "stream",
          "name": "stdout",
          "text": [
            "✅ Saved:\n",
            "- boards_turn_level.csv\n",
            "- game_journeys_turn_level.csv\n"
          ]
        }
      ]
    }
  ]
}